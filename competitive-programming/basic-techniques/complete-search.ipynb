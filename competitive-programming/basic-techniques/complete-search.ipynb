{
 "cells": [
  {
   "attachments": {},
   "cell_type": "markdown",
   "metadata": {},
   "source": [
    "## generating subsets\n"
   ]
  },
  {
   "cell_type": "code",
   "execution_count": 28,
   "metadata": {},
   "outputs": [
    {
     "name": "stdout",
     "output_type": "stream",
     "text": [
      "[[], [2], [1], [1, 2], [0], [0, 2], [0, 1], [0, 1, 2]]\n"
     ]
    }
   ],
   "source": [
    "subsets=[]\n",
    "def search(k,  n, subset):\n",
    "    if k == n:\n",
    "        subsets.append(subset.copy())\n",
    "    else:\n",
    "        search(k+1, n, subset)\n",
    "        search(k+1, n, subset + [k])\n",
    "\n",
    "search(0, 3, [])\n",
    "\n",
    "print(subsets)"
   ]
  },
  {
   "attachments": {},
   "cell_type": "markdown",
   "metadata": {},
   "source": [
    "## generating permutations"
   ]
  },
  {
   "cell_type": "code",
   "execution_count": 30,
   "metadata": {},
   "outputs": [
    {
     "name": "stdout",
     "output_type": "stream",
     "text": [
      "[[0, 1, 2], [0, 2, 1], [1, 0, 2], [1, 2, 0], [2, 0, 1], [2, 1, 0]]\n"
     ]
    }
   ],
   "source": [
    "n=3\n",
    "chosen = [False for i in range(n)]\n",
    "perms = []\n",
    "def permute(perm):\n",
    "    if len(perm) == n:\n",
    "        # ps\n",
    "        perms.append(perm)\n",
    "    else:\n",
    "        for i in range(n):\n",
    "            if chosen[i]:\n",
    "                continue\n",
    "            chosen[i]=True\n",
    "            permute(perm+[i])\n",
    "            chosen[i]=False\n",
    "            \n",
    "permute([])\n",
    "print(perms)"
   ]
  },
  {
   "attachments": {},
   "cell_type": "markdown",
   "metadata": {},
   "source": [
    "## Exercises\n",
    "1. https://leetcode.com/problems/permutations\n"
   ]
  }
 ],
 "metadata": {
  "kernelspec": {
   "display_name": "Python 3",
   "language": "python",
   "name": "python3"
  },
  "language_info": {
   "codemirror_mode": {
    "name": "ipython",
    "version": 3
   },
   "file_extension": ".py",
   "mimetype": "text/x-python",
   "name": "python",
   "nbconvert_exporter": "python",
   "pygments_lexer": "ipython3",
   "version": "3.8.10"
  },
  "orig_nbformat": 4,
  "vscode": {
   "interpreter": {
    "hash": "a07d869f1a398f0d02e54f09e511cb1e7e7dcbeebdc1fb2d245ce7ba30112379"
   }
  }
 },
 "nbformat": 4,
 "nbformat_minor": 2
}
